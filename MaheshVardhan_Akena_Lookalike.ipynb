{
  "nbformat": 4,
  "nbformat_minor": 0,
  "metadata": {
    "colab": {
      "provenance": [],
      "authorship_tag": "ABX9TyNEVvY5r49/IA6E6pOblYzK",
      "include_colab_link": true
    },
    "kernelspec": {
      "name": "python3",
      "display_name": "Python 3"
    },
    "language_info": {
      "name": "python"
    }
  },
  "cells": [
    {
      "cell_type": "markdown",
      "metadata": {
        "id": "view-in-github",
        "colab_type": "text"
      },
      "source": [
        "<a href=\"https://colab.research.google.com/github/AMaheshVardhan/Zeotap-Assignment/blob/main/MaheshVardhan_Akena_Lookalike.ipynb\" target=\"_parent\"><img src=\"https://colab.research.google.com/assets/colab-badge.svg\" alt=\"Open In Colab\"/></a>"
      ]
    },
    {
      "cell_type": "code",
      "execution_count": 6,
      "metadata": {
        "colab": {
          "base_uri": "https://localhost:8080/"
        },
        "id": "Fb4ThloOhzx-",
        "outputId": "f4c4c9ec-8221-405d-9b3f-35a26a89206e"
      },
      "outputs": [
        {
          "output_type": "stream",
          "name": "stderr",
          "text": [
            "<ipython-input-6-0440ccf2c1c1>:51: DeprecationWarning: DataFrameGroupBy.apply operated on the grouping columns. This behavior is deprecated, and in a future version of pandas the grouping columns will be excluded from the operation. Either pass `include_groups=False` to exclude the groupings or explicitly select the grouping columns after groupby to silence this warning.\n",
            "  lookalike_map = lookalike_df.groupby('CustomerID').apply(lambda x: x[['RecommendedCustomerID', 'SimilarityScore']].values.tolist()).to_dict()\n"
          ]
        }
      ],
      "source": [
        "import pandas as pd\n",
        "from sklearn.metrics.pairwise import cosine_similarity\n",
        "from sklearn.preprocessing import StandardScaler\n",
        "\n",
        "customers = pd.read_csv('/content/Data/Customers.csv')\n",
        "transactions = pd.read_csv('/content/Data/Transactions.csv')\n",
        "products = pd.read_csv('/content/Data/Products.csv')\n",
        "\n",
        "\n",
        "\n",
        "customers = customers.fillna(0)\n",
        "transactions = transactions.fillna(0)\n",
        "products = products.fillna(0)\n",
        "\n",
        "\n",
        "merged_data = pd.merge(transactions, customers, on='CustomerID', how='left')\n",
        "merged_data = pd.merge(merged_data, products, on='ProductID', how='left')\n",
        "\n",
        "\n",
        "customer_features = merged_data.groupby('CustomerID').agg(\n",
        "    total_spending=('TotalValue', 'sum'),\n",
        "    total_quantity=('Quantity', 'sum'),\n",
        "    unique_products=('ProductID', 'nunique')\n",
        ").reset_index()\n",
        "\n",
        "customers_data = pd.merge(customers, customer_features, on='CustomerID', how='left')\n",
        "customers_data = customers_data.fillna(0)\n",
        "\n",
        "\n",
        "scaler = StandardScaler()\n",
        "features = ['total_spending', 'total_quantity', 'unique_products']\n",
        "customers_data[features] = scaler.fit_transform(customers_data[features])\n",
        "\n",
        "similarity_matrix = cosine_similarity(customers_data[features])\n",
        "\n",
        "lookalike_recommendations = {}\n",
        "\n",
        "for i in range(20):\n",
        "    cust_id = customers_data['CustomerID'].iloc[i]\n",
        "    similarity_scores = similarity_matrix[i]\n",
        "    similarity_scores[i]=-1\n",
        "    top_indices = similarity_scores.argsort()[-3:][::-1]\n",
        "    recommendations = [(customers_data['CustomerID'].iloc[idx], similarity_scores[idx]) for idx in top_indices]\n",
        "    lookalike_recommendations[cust_id] = recommendations\n",
        "lookalike_data = []\n",
        "for cust_id, recommendations in lookalike_recommendations.items():\n",
        "    for rec in recommendations:\n",
        "        lookalike_data.append([cust_id, rec[0], rec[1]])\n",
        "\n",
        "lookalike_df = pd.DataFrame(lookalike_data, columns=['CustomerID', 'RecommendedCustomerID', 'SimilarityScore'])\n",
        "lookalike_map = lookalike_df.groupby('CustomerID').apply(lambda x: x[['RecommendedCustomerID', 'SimilarityScore']].values.tolist()).to_dict()\n",
        "lookalike_final = pd.DataFrame(list(lookalike_map.items()), columns=['CustomerID', 'Recommendations'])\n",
        "lookalike_final.to_csv('Lookalike.csv', index=False)\n"
      ]
    }
  ]
}